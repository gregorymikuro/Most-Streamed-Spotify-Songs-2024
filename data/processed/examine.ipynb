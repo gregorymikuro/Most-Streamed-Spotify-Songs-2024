{
 "cells": [
  {
   "cell_type": "code",
   "execution_count": 1,
   "metadata": {},
   "outputs": [],
   "source": [
    "import pandas as pd"
   ]
  },
  {
   "cell_type": "code",
   "execution_count": 2,
   "metadata": {},
   "outputs": [
    {
     "name": "stdout",
     "output_type": "stream",
     "text": [
      "<class 'pandas.core.frame.DataFrame'>\n",
      "RangeIndex: 2593 entries, 0 to 2592\n",
      "Data columns (total 26 columns):\n",
      " #   Column                      Non-Null Count  Dtype  \n",
      "---  ------                      --------------  -----  \n",
      " 0   Track                       2593 non-null   object \n",
      " 1   Album Name                  2593 non-null   object \n",
      " 2   Artist                      2593 non-null   object \n",
      " 3   Release Date                2593 non-null   object \n",
      " 4   ISRC                        2593 non-null   object \n",
      " 5   All Time Rank               2593 non-null   object \n",
      " 6   Track Score                 2593 non-null   float64\n",
      " 7   Spotify Streams             2593 non-null   object \n",
      " 8   Spotify Playlist Count      2593 non-null   object \n",
      " 9   Spotify Playlist Reach      2593 non-null   object \n",
      " 10  Spotify Popularity          2593 non-null   float64\n",
      " 11  YouTube Views               2593 non-null   object \n",
      " 12  YouTube Likes               2592 non-null   object \n",
      " 13  TikTok Posts                2539 non-null   object \n",
      " 14  TikTok Likes                2593 non-null   object \n",
      " 15  TikTok Views                2593 non-null   object \n",
      " 16  YouTube Playlist Reach      2469 non-null   object \n",
      " 17  Apple Music Playlist Count  2593 non-null   float64\n",
      " 18  AirPlay Spins               2573 non-null   object \n",
      " 19  Deezer Playlist Count       2593 non-null   float64\n",
      " 20  Deezer Playlist Reach       2589 non-null   object \n",
      " 21  Amazon Playlist Count       2593 non-null   float64\n",
      " 22  Pandora Streams             2593 non-null   object \n",
      " 23  Pandora Track Stations      2556 non-null   object \n",
      " 24  Shazam Counts               2515 non-null   object \n",
      " 25  Explicit Track              2593 non-null   int64  \n",
      "dtypes: float64(5), int64(1), object(20)\n",
      "memory usage: 526.8+ KB\n"
     ]
    }
   ],
   "source": [
    "df = pd.read_csv(\"cleaneddata.csv\")\n",
    "\n",
    "df.info()"
   ]
  },
  {
   "cell_type": "code",
   "execution_count": null,
   "metadata": {},
   "outputs": [],
   "source": []
  }
 ],
 "metadata": {
  "kernelspec": {
   "display_name": "base",
   "language": "python",
   "name": "python3"
  },
  "language_info": {
   "codemirror_mode": {
    "name": "ipython",
    "version": 3
   },
   "file_extension": ".py",
   "mimetype": "text/x-python",
   "name": "python",
   "nbconvert_exporter": "python",
   "pygments_lexer": "ipython3",
   "version": "3.11.7"
  }
 },
 "nbformat": 4,
 "nbformat_minor": 2
}
