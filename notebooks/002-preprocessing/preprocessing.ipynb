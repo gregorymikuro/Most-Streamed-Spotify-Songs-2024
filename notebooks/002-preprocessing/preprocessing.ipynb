{
 "cells": [
  {
   "cell_type": "markdown",
   "metadata": {},
   "source": [
    "Data Cleaning"
   ]
  },
  {
   "cell_type": "markdown",
   "metadata": {},
   "source": [
    "As stated earlier the folder structure as above \n",
    "\n",
    "This process is to be done on the rawdata.csv in the data/processed folder\n",
    "The script wil be run from an preprocessing.ipynb file in the notebooks/002-preprocessing folder\n",
    "\n",
    "Data Cleaning Class\n",
    "Function 1 \n",
    "Change the Columns into Correct Formats\n",
    "1. Look for a column that could have date like features which is currently in str and change its format most probably its structured like this : date/month/year or have the name \"date\" as part of the name of column (if not present skip and note down in comment that there are no date features found). If found create new additional columns, year and month and fill them appropriately.\n",
    "\n",
    "2. There are numerical columns that are refererred to as 'object', so examine each column that has more than 30% numerical values and change it to its proper format \"str\" and for the rest regard them as Nan or Null values. Remember that some of these are comma separated and may have spaces.\n",
    "\n",
    "Function 2\n",
    "Drop Missing Values \n",
    "1. drop all columns with missing values and Nan values of more than 30%\n",
    "2. drop all rows with missing columns of more than 5\n",
    "\n",
    "\n",
    "Function 3\n",
    "Fill in Missing Values for numerical values, Null or Nan Values \n",
    "1. Use XGBoost and only numerical columns and encode columns variables that have unique values of less than 25 values to fill in missing/null/nan values \n",
    "2. Create a new csv in the data/processed folder named cleaneddata.csv (if it already exists replace it) that includes filled in missed values \n"
   ]
  },
  {
   "cell_type": "code",
   "execution_count": 30,
   "metadata": {},
   "outputs": [],
   "source": [
    "import os\n",
    "import pandas as pd\n",
    "import numpy as np\n",
    "import xgboost as xgb\n",
    "from sklearn.preprocessing import LabelEncoder\n",
    "\n",
    "class DataCleaning:\n",
    "    def __init__(self, parent_folder):\n",
    "        self.parent_folder = parent_folder\n",
    "        self.rawdata_path = os.path.join(self.parent_folder, 'data', 'processed', 'rawdata.csv')\n",
    "        self.cleaneddata_path = os.path.join(self.parent_folder, 'data', 'processed', 'cleaneddata.csv')\n",
    "        self.df = pd.read_csv(self.rawdata_path)\n",
    "\n",
    "    def change_column_formats(self):\n",
    "        # Change date-like columns\n",
    "        date_columns = [col for col in self.df.columns if 'date' in col.lower()]\n",
    "        for col in date_columns:\n",
    "            try:\n",
    "                self.df[col] = pd.to_datetime(self.df[col], errors='coerce')\n",
    "                self.df['year'] = self.df[col].dt.year\n",
    "                self.df['month'] = self.df[col].dt.month\n",
    "            except Exception as e:\n",
    "                print(f\"Could not convert {col} to datetime: {e}\")\n",
    "\n",
    "        # Change numerical columns with more than 30% numerical values\n",
    "        for col in self.df.select_dtypes(include=['object']).columns:\n",
    "            try:\n",
    "                num_values = pd.to_numeric(self.df[col].str.replace(',', '').str.strip(), errors='coerce')\n",
    "                if num_values.notnull().mean() > 0.3:\n",
    "                    self.df[col] = num_values\n",
    "            except Exception as e:\n",
    "                print(f\"Could not convert {col} to numeric: {e}\")\n",
    "\n",
    "    def drop_missing_values(self):\n",
    "        # Drop columns with more than 30% missing values\n",
    "        self.df.dropna(thresh=len(self.df) * 0.7, axis=1, inplace=True)\n",
    "\n",
    "        # Drop rows with more than 5 missing columns\n",
    "        self.df.dropna(thresh=len(self.df.columns) - 5, axis=0, inplace=True)\n",
    "\n",
    "    def fill_missing_values(self):\n",
    "        # Drop columns with date or datetime format\n",
    "        date_columns = [col for col in self.df.columns if 'date' in col.lower()]\n",
    "        self.df.drop(columns=date_columns, inplace=True, errors='ignore')\n",
    "\n",
    "        # Encode categorical variables\n",
    "        for col in self.df.select_dtypes(include=['object']).columns:\n",
    "            if self.df[col].nunique() <= 25:\n",
    "                self.df[col] = LabelEncoder().fit_transform(self.df[col].astype(str))\n",
    "\n",
    "        # Fill missing values using XGBoost\n",
    "        missing_columns = self.df.columns[self.df.isnull().any()].tolist()\n",
    "        for col in missing_columns:\n",
    "            try:\n",
    "                X = self.df.drop(columns=missing_columns)\n",
    "                y = self.df[col]\n",
    "                missing_mask = y.isnull()\n",
    "                train_X = X.loc[~missing_mask]\n",
    "                train_y = y.loc[~missing_mask]\n",
    "                test_X = X.loc[missing_mask]\n",
    "\n",
    "                reg = xgb.XGBRegressor(objective='reg:squarederror')\n",
    "                reg.fit(train_X, train_y)\n",
    "                self.df.loc[missing_mask, col] = reg.predict(test_X)\n",
    "            except Exception as e:\n",
    "                print(f\"Could not fill missing values for {col}: {e}\")\n",
    "\n",
    "        # Save the cleaned data to a new CSV file\n",
    "        self.df.to_csv(self.cleaneddata_path, index=False)\n",
    "\n"
   ]
  },
  {
   "cell_type": "code",
   "execution_count": 31,
   "metadata": {},
   "outputs": [],
   "source": [
    "parent_folder = 'T:\\Github Projects\\data-science-practice\\Most-Streamed-Spotify-Songs-2024'\n",
    "\n",
    "data_cleaning = DataCleaning(parent_folder)"
   ]
  },
  {
   "cell_type": "code",
   "execution_count": 32,
   "metadata": {},
   "outputs": [],
   "source": [
    "\n",
    "data_cleaning.change_column_formats()"
   ]
  },
  {
   "cell_type": "code",
   "execution_count": 33,
   "metadata": {},
   "outputs": [],
   "source": [
    "\n",
    "data_cleaning.drop_missing_values()"
   ]
  },
  {
   "cell_type": "code",
   "execution_count": 34,
   "metadata": {},
   "outputs": [
    {
     "name": "stdout",
     "output_type": "stream",
     "text": [
      "Could not fill missing values for Spotify Streams: DataFrame.dtypes for data must be int, float, bool or category. When categorical type is supplied, The experimental DMatrix parameter`enable_categorical` must be set to `True`.  Invalid columns:Track: object, Album Name: object, Artist: object, ISRC: object\n",
      "Could not fill missing values for Spotify Popularity: DataFrame.dtypes for data must be int, float, bool or category. When categorical type is supplied, The experimental DMatrix parameter`enable_categorical` must be set to `True`.  Invalid columns:Track: object, Album Name: object, Artist: object, ISRC: object\n",
      "Could not fill missing values for YouTube Views: DataFrame.dtypes for data must be int, float, bool or category. When categorical type is supplied, The experimental DMatrix parameter`enable_categorical` must be set to `True`.  Invalid columns:Track: object, Album Name: object, Artist: object, ISRC: object\n",
      "Could not fill missing values for YouTube Likes: DataFrame.dtypes for data must be int, float, bool or category. When categorical type is supplied, The experimental DMatrix parameter`enable_categorical` must be set to `True`.  Invalid columns:Track: object, Album Name: object, Artist: object, ISRC: object\n",
      "Could not fill missing values for TikTok Posts: DataFrame.dtypes for data must be int, float, bool or category. When categorical type is supplied, The experimental DMatrix parameter`enable_categorical` must be set to `True`.  Invalid columns:Track: object, Album Name: object, Artist: object, ISRC: object\n",
      "Could not fill missing values for TikTok Likes: DataFrame.dtypes for data must be int, float, bool or category. When categorical type is supplied, The experimental DMatrix parameter`enable_categorical` must be set to `True`.  Invalid columns:Track: object, Album Name: object, Artist: object, ISRC: object\n",
      "Could not fill missing values for TikTok Views: DataFrame.dtypes for data must be int, float, bool or category. When categorical type is supplied, The experimental DMatrix parameter`enable_categorical` must be set to `True`.  Invalid columns:Track: object, Album Name: object, Artist: object, ISRC: object\n",
      "Could not fill missing values for YouTube Playlist Reach: DataFrame.dtypes for data must be int, float, bool or category. When categorical type is supplied, The experimental DMatrix parameter`enable_categorical` must be set to `True`.  Invalid columns:Track: object, Album Name: object, Artist: object, ISRC: object\n",
      "Could not fill missing values for Apple Music Playlist Count: DataFrame.dtypes for data must be int, float, bool or category. When categorical type is supplied, The experimental DMatrix parameter`enable_categorical` must be set to `True`.  Invalid columns:Track: object, Album Name: object, Artist: object, ISRC: object\n",
      "Could not fill missing values for AirPlay Spins: DataFrame.dtypes for data must be int, float, bool or category. When categorical type is supplied, The experimental DMatrix parameter`enable_categorical` must be set to `True`.  Invalid columns:Track: object, Album Name: object, Artist: object, ISRC: object\n",
      "Could not fill missing values for Deezer Playlist Count: DataFrame.dtypes for data must be int, float, bool or category. When categorical type is supplied, The experimental DMatrix parameter`enable_categorical` must be set to `True`.  Invalid columns:Track: object, Album Name: object, Artist: object, ISRC: object\n",
      "Could not fill missing values for Deezer Playlist Reach: DataFrame.dtypes for data must be int, float, bool or category. When categorical type is supplied, The experimental DMatrix parameter`enable_categorical` must be set to `True`.  Invalid columns:Track: object, Album Name: object, Artist: object, ISRC: object\n",
      "Could not fill missing values for Amazon Playlist Count: DataFrame.dtypes for data must be int, float, bool or category. When categorical type is supplied, The experimental DMatrix parameter`enable_categorical` must be set to `True`.  Invalid columns:Track: object, Album Name: object, Artist: object, ISRC: object\n",
      "Could not fill missing values for Pandora Streams: DataFrame.dtypes for data must be int, float, bool or category. When categorical type is supplied, The experimental DMatrix parameter`enable_categorical` must be set to `True`.  Invalid columns:Track: object, Album Name: object, Artist: object, ISRC: object\n",
      "Could not fill missing values for Pandora Track Stations: DataFrame.dtypes for data must be int, float, bool or category. When categorical type is supplied, The experimental DMatrix parameter`enable_categorical` must be set to `True`.  Invalid columns:Track: object, Album Name: object, Artist: object, ISRC: object\n",
      "Could not fill missing values for Shazam Counts: DataFrame.dtypes for data must be int, float, bool or category. When categorical type is supplied, The experimental DMatrix parameter`enable_categorical` must be set to `True`.  Invalid columns:Track: object, Album Name: object, Artist: object, ISRC: object\n"
     ]
    }
   ],
   "source": [
    "\n",
    "data_cleaning.fill_missing_values()"
   ]
  }
 ],
 "metadata": {
  "kernelspec": {
   "display_name": "base",
   "language": "python",
   "name": "python3"
  },
  "language_info": {
   "codemirror_mode": {
    "name": "ipython",
    "version": 3
   },
   "file_extension": ".py",
   "mimetype": "text/x-python",
   "name": "python",
   "nbconvert_exporter": "python",
   "pygments_lexer": "ipython3",
   "version": "3.11.7"
  }
 },
 "nbformat": 4,
 "nbformat_minor": 2
}
